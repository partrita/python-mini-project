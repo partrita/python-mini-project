{
 "cells": [
  {
   "cell_type": "markdown",
   "metadata": {
    "colab_type": "text",
    "id": "view-in-github"
   },
   "source": [
    "<a href=\"https://colab.research.google.com/github/MohdSiddiq12/Regression_using_ANN/blob/main/CCPP_ANN.ipynb\" target=\"_parent\"><img src=\"https://colab.research.google.com/assets/colab-badge.svg\" alt=\"Open In Colab\"/></a>"
   ]
  },
  {
   "cell_type": "markdown",
   "metadata": {
    "id": "vKB9yAxzMYJd"
   },
   "source": [
    "Build an ANN Regression model to predict the electrical energy output of a Combined Cycle Power Plant"
   ]
  },
  {
   "cell_type": "code",
   "execution_count": null,
   "metadata": {
    "id": "0V0y2N8XVtuo"
   },
   "outputs": [],
   "source": [
    "import tensorflow as tf\n",
    "import numpy as np\n",
    "import pandas as pd"
   ]
  },
  {
   "cell_type": "code",
   "execution_count": null,
   "metadata": {
    "id": "qsVE5AxoDVSL"
   },
   "outputs": [],
   "source": [
    "data = pd.read_excel(\"/content/drive/MyDrive/Colab Notebooks/ANN/Folds5x2_pp.xlsx\")"
   ]
  },
  {
   "cell_type": "code",
   "execution_count": null,
   "metadata": {
    "colab": {
     "base_uri": "https://localhost:8080/"
    },
    "id": "-2IshJ60qqEE",
    "outputId": "c08ba8c7-7fcf-4a0f-8002-a8a73070a1ca"
   },
   "outputs": [
    {
     "name": "stdout",
     "output_type": "stream",
     "text": [
      "Drive already mounted at /content/drive; to attempt to forcibly remount, call drive.mount(\"/content/drive\", force_remount=True).\n"
     ]
    }
   ],
   "source": [
    "from google.colab import drive\n",
    "\n",
    "drive.mount(\"/content/drive\")"
   ]
  },
  {
   "cell_type": "code",
   "execution_count": null,
   "metadata": {
    "id": "JG22B2v2V5Qb"
   },
   "outputs": [],
   "source": [
    "# seperating values of dataset\n",
    "X = data.iloc[:, :-1].values\n",
    "Y = data.iloc[:, -1].values"
   ]
  },
  {
   "cell_type": "code",
   "execution_count": null,
   "metadata": {
    "id": "GSQpRA70_EnV"
   },
   "outputs": [],
   "source": [
    "# splitting the dataset into train set and test set\n",
    "from sklearn.model_selection import train_test_split as tts\n",
    "\n",
    "X_train, X_test, Y_train, Y_test = tts(X, Y, test_size=0.2, random_state=0)"
   ]
  },
  {
   "cell_type": "code",
   "execution_count": null,
   "metadata": {
    "id": "9nRKGjws_E27"
   },
   "outputs": [],
   "source": [
    "ann = tf.keras.models.Sequential()"
   ]
  },
  {
   "cell_type": "markdown",
   "metadata": {
    "id": "hMNEpujq32n4"
   },
   "source": [
    "The tf.keras.models.Sequential() function returns a new sequential model object that can be used to define\n",
    "the architecture of a neural network. Once initialized, you can add layers to the model using the add() method.\n"
   ]
  },
  {
   "cell_type": "code",
   "execution_count": null,
   "metadata": {
    "id": "NAWN0NEo_FQi"
   },
   "outputs": [],
   "source": [
    "ann.add(tf.keras.layers.Dense(units=6, activation=\"relu\"))"
   ]
  },
  {
   "cell_type": "code",
   "execution_count": null,
   "metadata": {
    "id": "o-tEk4mk_FaV"
   },
   "outputs": [],
   "source": [
    "ann.add(tf.keras.layers.Dense(units=6, activation=\"relu\"))"
   ]
  },
  {
   "cell_type": "code",
   "execution_count": null,
   "metadata": {
    "id": "DWQYEAEf_Fe9"
   },
   "outputs": [],
   "source": [
    "ann.add(tf.keras.layers.Dense(units=1))"
   ]
  },
  {
   "cell_type": "markdown",
   "metadata": {
    "id": "ySqtFMiIIww6"
   },
   "source": [
    "The Adam optimizer is a widely used optimization algorithm for training deep learning models. It uses a combination of momentum and adaptive learning rates to efficiently navigate the high-dimensional parameter space and converge to a good solution.\n"
   ]
  },
  {
   "cell_type": "code",
   "execution_count": null,
   "metadata": {
    "id": "khFLNcH0GuAR"
   },
   "outputs": [],
   "source": [
    "ann.compile(optimizer=\"adam\", loss=\"mean_squared_error\")"
   ]
  },
  {
   "cell_type": "markdown",
   "metadata": {
    "id": "lgpWT5-zLDr3"
   },
   "source": [
    "The mean squared error loss function is commonly used for regression problems. It computes the mean of the squared differences between the predicted and true values of the target variable. The goal of the training process is to minimize this loss function, which means that the model is trying to make its predictions as close as possible to the true values"
   ]
  },
  {
   "cell_type": "code",
   "execution_count": null,
   "metadata": {
    "colab": {
     "base_uri": "https://localhost:8080/"
    },
    "id": "rlNrNm0__FlT",
    "outputId": "2c126d38-17ce-438e-d8f5-f5b13e515098"
   },
   "outputs": [
    {
     "name": "stdout",
     "output_type": "stream",
     "text": [
      "Epoch 1/100\n",
      "240/240 [==============================] - 1s 2ms/step - loss: 87643.6719\n",
      "Epoch 2/100\n",
      "240/240 [==============================] - 0s 2ms/step - loss: 267.0827\n",
      "Epoch 3/100\n",
      "240/240 [==============================] - 0s 2ms/step - loss: 225.0462\n",
      "Epoch 4/100\n",
      "240/240 [==============================] - 0s 2ms/step - loss: 218.9589\n",
      "Epoch 5/100\n",
      "240/240 [==============================] - 0s 1ms/step - loss: 211.9290\n",
      "Epoch 6/100\n",
      "240/240 [==============================] - 0s 2ms/step - loss: 204.1414\n",
      "Epoch 7/100\n",
      "240/240 [==============================] - 0s 2ms/step - loss: 195.1124\n",
      "Epoch 8/100\n",
      "240/240 [==============================] - 0s 2ms/step - loss: 185.7437\n",
      "Epoch 9/100\n",
      "240/240 [==============================] - 0s 2ms/step - loss: 175.2805\n",
      "Epoch 10/100\n",
      "240/240 [==============================] - 0s 1ms/step - loss: 165.0381\n",
      "Epoch 11/100\n",
      "240/240 [==============================] - 0s 1ms/step - loss: 153.9754\n",
      "Epoch 12/100\n",
      "240/240 [==============================] - 0s 2ms/step - loss: 143.2326\n",
      "Epoch 13/100\n",
      "240/240 [==============================] - 0s 2ms/step - loss: 132.4496\n",
      "Epoch 14/100\n",
      "240/240 [==============================] - 0s 2ms/step - loss: 122.1509\n",
      "Epoch 15/100\n",
      "240/240 [==============================] - 0s 2ms/step - loss: 111.8504\n",
      "Epoch 16/100\n",
      "240/240 [==============================] - 0s 2ms/step - loss: 102.4270\n",
      "Epoch 17/100\n",
      "240/240 [==============================] - 0s 2ms/step - loss: 94.0232\n",
      "Epoch 18/100\n",
      "240/240 [==============================] - 0s 2ms/step - loss: 85.3746\n",
      "Epoch 19/100\n",
      "240/240 [==============================] - 0s 1ms/step - loss: 77.8924\n",
      "Epoch 20/100\n",
      "240/240 [==============================] - 0s 1ms/step - loss: 71.0033\n",
      "Epoch 21/100\n",
      "240/240 [==============================] - 0s 1ms/step - loss: 64.9267\n",
      "Epoch 22/100\n",
      "240/240 [==============================] - 0s 1ms/step - loss: 59.5436\n",
      "Epoch 23/100\n",
      "240/240 [==============================] - 0s 2ms/step - loss: 54.3075\n",
      "Epoch 24/100\n",
      "240/240 [==============================] - 1s 2ms/step - loss: 50.2759\n",
      "Epoch 25/100\n",
      "240/240 [==============================] - 0s 2ms/step - loss: 46.5180\n",
      "Epoch 26/100\n",
      "240/240 [==============================] - 1s 2ms/step - loss: 43.8271\n",
      "Epoch 27/100\n",
      "240/240 [==============================] - 0s 2ms/step - loss: 41.6056\n",
      "Epoch 28/100\n",
      "240/240 [==============================] - 0s 2ms/step - loss: 39.7205\n",
      "Epoch 29/100\n",
      "240/240 [==============================] - 0s 2ms/step - loss: 38.0673\n",
      "Epoch 30/100\n",
      "240/240 [==============================] - 0s 2ms/step - loss: 37.1770\n",
      "Epoch 31/100\n",
      "240/240 [==============================] - 0s 1ms/step - loss: 35.8520\n",
      "Epoch 32/100\n",
      "240/240 [==============================] - 0s 2ms/step - loss: 34.9797\n",
      "Epoch 33/100\n",
      "240/240 [==============================] - 0s 2ms/step - loss: 33.8846\n",
      "Epoch 34/100\n",
      "240/240 [==============================] - 0s 2ms/step - loss: 33.1752\n",
      "Epoch 35/100\n",
      "240/240 [==============================] - 0s 2ms/step - loss: 32.3737\n",
      "Epoch 36/100\n",
      "240/240 [==============================] - 0s 2ms/step - loss: 31.9514\n",
      "Epoch 37/100\n",
      "240/240 [==============================] - 0s 2ms/step - loss: 31.7655\n",
      "Epoch 38/100\n",
      "240/240 [==============================] - 0s 2ms/step - loss: 31.0428\n",
      "Epoch 39/100\n",
      "240/240 [==============================] - 0s 2ms/step - loss: 30.6156\n",
      "Epoch 40/100\n",
      "240/240 [==============================] - 0s 2ms/step - loss: 29.7629\n",
      "Epoch 41/100\n",
      "240/240 [==============================] - 0s 1ms/step - loss: 30.0632\n",
      "Epoch 42/100\n",
      "240/240 [==============================] - 0s 1ms/step - loss: 29.0554\n",
      "Epoch 43/100\n",
      "240/240 [==============================] - 0s 2ms/step - loss: 29.1440\n",
      "Epoch 44/100\n",
      "240/240 [==============================] - 0s 2ms/step - loss: 29.3539\n",
      "Epoch 45/100\n",
      "240/240 [==============================] - 0s 2ms/step - loss: 28.3446\n",
      "Epoch 46/100\n",
      "240/240 [==============================] - 0s 2ms/step - loss: 27.9064\n",
      "Epoch 47/100\n",
      "240/240 [==============================] - 0s 2ms/step - loss: 27.7371\n",
      "Epoch 48/100\n",
      "240/240 [==============================] - 0s 2ms/step - loss: 27.9368\n",
      "Epoch 49/100\n",
      "240/240 [==============================] - 0s 2ms/step - loss: 27.8239\n",
      "Epoch 50/100\n",
      "240/240 [==============================] - 0s 2ms/step - loss: 27.2741\n",
      "Epoch 51/100\n",
      "240/240 [==============================] - 0s 1ms/step - loss: 27.1623\n",
      "Epoch 52/100\n",
      "240/240 [==============================] - 0s 1ms/step - loss: 27.6709\n",
      "Epoch 53/100\n",
      "240/240 [==============================] - 0s 2ms/step - loss: 27.4004\n",
      "Epoch 54/100\n",
      "240/240 [==============================] - 0s 2ms/step - loss: 27.7198\n",
      "Epoch 55/100\n",
      "240/240 [==============================] - 0s 2ms/step - loss: 27.2275\n",
      "Epoch 56/100\n",
      "240/240 [==============================] - 0s 2ms/step - loss: 27.2186\n",
      "Epoch 57/100\n",
      "240/240 [==============================] - 0s 2ms/step - loss: 26.8182\n",
      "Epoch 58/100\n",
      "240/240 [==============================] - 0s 2ms/step - loss: 26.9084\n",
      "Epoch 59/100\n",
      "240/240 [==============================] - 0s 2ms/step - loss: 26.8736\n",
      "Epoch 60/100\n",
      "240/240 [==============================] - 1s 2ms/step - loss: 27.4942\n",
      "Epoch 61/100\n",
      "240/240 [==============================] - 1s 2ms/step - loss: 26.7395\n",
      "Epoch 62/100\n",
      "240/240 [==============================] - 1s 2ms/step - loss: 27.5176\n",
      "Epoch 63/100\n",
      "240/240 [==============================] - 0s 2ms/step - loss: 26.6098\n",
      "Epoch 64/100\n",
      "240/240 [==============================] - 0s 2ms/step - loss: 26.9977\n",
      "Epoch 65/100\n",
      "240/240 [==============================] - 0s 2ms/step - loss: 26.7823\n",
      "Epoch 66/100\n",
      "240/240 [==============================] - 0s 2ms/step - loss: 27.2252\n",
      "Epoch 67/100\n",
      "240/240 [==============================] - 0s 2ms/step - loss: 26.5412\n",
      "Epoch 68/100\n",
      "240/240 [==============================] - 0s 1ms/step - loss: 26.6553\n",
      "Epoch 69/100\n",
      "240/240 [==============================] - 0s 2ms/step - loss: 26.7763\n",
      "Epoch 70/100\n",
      "240/240 [==============================] - 0s 1ms/step - loss: 27.2166\n",
      "Epoch 71/100\n",
      "240/240 [==============================] - 0s 2ms/step - loss: 26.4494\n",
      "Epoch 72/100\n",
      "240/240 [==============================] - 0s 2ms/step - loss: 26.5784\n",
      "Epoch 73/100\n",
      "240/240 [==============================] - 0s 2ms/step - loss: 26.7082\n",
      "Epoch 74/100\n",
      "240/240 [==============================] - 0s 2ms/step - loss: 26.8492\n",
      "Epoch 75/100\n",
      "240/240 [==============================] - 0s 2ms/step - loss: 26.8747\n",
      "Epoch 76/100\n",
      "240/240 [==============================] - 0s 1ms/step - loss: 26.6791\n",
      "Epoch 77/100\n",
      "240/240 [==============================] - 0s 2ms/step - loss: 26.6648\n",
      "Epoch 78/100\n",
      "240/240 [==============================] - 0s 2ms/step - loss: 26.6983\n",
      "Epoch 79/100\n",
      "240/240 [==============================] - 0s 2ms/step - loss: 26.9250\n",
      "Epoch 80/100\n",
      "240/240 [==============================] - 0s 2ms/step - loss: 27.0190\n",
      "Epoch 81/100\n",
      "240/240 [==============================] - 0s 1ms/step - loss: 26.7804\n",
      "Epoch 82/100\n",
      "240/240 [==============================] - 0s 2ms/step - loss: 26.5667\n",
      "Epoch 83/100\n",
      "240/240 [==============================] - 0s 2ms/step - loss: 26.6470\n",
      "Epoch 84/100\n",
      "240/240 [==============================] - 0s 2ms/step - loss: 27.1911\n",
      "Epoch 85/100\n",
      "240/240 [==============================] - 0s 2ms/step - loss: 26.6923\n",
      "Epoch 86/100\n",
      "240/240 [==============================] - 0s 2ms/step - loss: 26.5327\n",
      "Epoch 87/100\n",
      "240/240 [==============================] - 0s 1ms/step - loss: 27.0401\n",
      "Epoch 88/100\n",
      "240/240 [==============================] - 0s 1ms/step - loss: 26.7529\n",
      "Epoch 89/100\n",
      "240/240 [==============================] - 0s 2ms/step - loss: 26.7333\n",
      "Epoch 90/100\n",
      "240/240 [==============================] - 1s 2ms/step - loss: 26.9290\n",
      "Epoch 91/100\n",
      "240/240 [==============================] - 0s 2ms/step - loss: 26.8608\n",
      "Epoch 92/100\n",
      "240/240 [==============================] - 1s 2ms/step - loss: 26.8838\n",
      "Epoch 93/100\n",
      "240/240 [==============================] - 1s 2ms/step - loss: 26.5286\n",
      "Epoch 94/100\n",
      "240/240 [==============================] - 0s 2ms/step - loss: 26.5370\n",
      "Epoch 95/100\n",
      "240/240 [==============================] - 1s 2ms/step - loss: 26.7323\n",
      "Epoch 96/100\n",
      "240/240 [==============================] - 0s 2ms/step - loss: 27.0699\n",
      "Epoch 97/100\n",
      "240/240 [==============================] - 0s 2ms/step - loss: 27.2160\n",
      "Epoch 98/100\n",
      "240/240 [==============================] - 0s 1ms/step - loss: 26.4927\n",
      "Epoch 99/100\n",
      "240/240 [==============================] - 0s 1ms/step - loss: 27.0903\n",
      "Epoch 100/100\n",
      "240/240 [==============================] - 0s 2ms/step - loss: 26.8351\n"
     ]
    },
    {
     "data": {
      "text/plain": [
       "<keras.callbacks.History at 0x7f7cc9f953d0>"
      ]
     },
     "execution_count": 16,
     "metadata": {},
     "output_type": "execute_result"
    }
   ],
   "source": [
    "ann.fit(X_train, Y_train, batch_size=32, epochs=100)"
   ]
  },
  {
   "cell_type": "code",
   "execution_count": null,
   "metadata": {
    "colab": {
     "base_uri": "https://localhost:8080/"
    },
    "id": "NTQkWvpSvYfU",
    "outputId": "4ddd0393-cdb4-4add-fe69-7044e7978cb8"
   },
   "outputs": [
    {
     "name": "stdout",
     "output_type": "stream",
     "text": [
      "60/60 [==============================] - 0s 1ms/step\n",
      "[[431.39 431.23]\n",
      " [462.49 460.01]\n",
      " [466.   461.14]\n",
      " ...\n",
      " [473.24 473.26]\n",
      " [440.01 438.  ]\n",
      " [459.24 463.28]]\n"
     ]
    }
   ],
   "source": [
    "y_pred = ann.predict(X_test)\n",
    "np.set_printoptions(precision=2)\n",
    "print(\n",
    "    np.concatenate((y_pred.reshape(len(y_pred), 1), Y_test.reshape(len(Y_test), 1)), 1)\n",
    ")"
   ]
  }
 ],
 "metadata": {
  "colab": {
   "include_colab_link": true,
   "provenance": []
  },
  "kernelspec": {
   "display_name": "Python 3",
   "name": "python3"
  },
  "language_info": {
   "name": "python"
  }
 },
 "nbformat": 4,
 "nbformat_minor": 0
}